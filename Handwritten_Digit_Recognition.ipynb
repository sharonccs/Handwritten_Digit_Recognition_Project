{
 "cells": [
  {
   "cell_type": "code",
   "execution_count": 28,
   "id": "7702f244",
   "metadata": {},
   "outputs": [],
   "source": [
    "#1. Import the libraries and load the dataset"
   ]
  },
  {
   "cell_type": "code",
   "execution_count": 34,
   "id": "c3def2fb",
   "metadata": {},
   "outputs": [],
   "source": [
    "from tensorflow import keras\n",
    "from keras.datasets import mnist\n",
    "from keras.models import Sequential\n",
    "from keras.layers import Dense, Dropout, Flatten\n",
    "from keras.layers import Conv2D, MaxPooling2D\n",
    "from keras import backend as K"
   ]
  },
  {
   "cell_type": "code",
   "execution_count": 35,
   "id": "91dc0468",
   "metadata": {},
   "outputs": [],
   "source": [
    "# the data, split between train and test sets\n",
    "(x_train, y_train), (x_test, y_test) = mnist.load_data()"
   ]
  },
  {
   "cell_type": "code",
   "execution_count": 36,
   "id": "ecc6f807",
   "metadata": {},
   "outputs": [
    {
     "name": "stdout",
     "output_type": "stream",
     "text": [
      "(60000, 28, 28) (60000,)\n"
     ]
    }
   ],
   "source": [
    "print(x_train.shape, y_train.shape)"
   ]
  },
  {
   "cell_type": "code",
   "execution_count": 37,
   "id": "3ff52b58",
   "metadata": {},
   "outputs": [],
   "source": [
    "#2. Preprocess the data"
   ]
  },
  {
   "cell_type": "code",
   "execution_count": 38,
   "id": "0f4d625d",
   "metadata": {},
   "outputs": [],
   "source": [
    "x_train = x_train.reshape(x_train.shape[0], 28, 28, 1)\n",
    "x_test = x_test.reshape(x_test.shape[0], 28, 28, 1)\n",
    "input_shape = (28, 28, 1)"
   ]
  },
  {
   "cell_type": "code",
   "execution_count": 39,
   "id": "a18c7d4b",
   "metadata": {},
   "outputs": [],
   "source": [
    "# convert class vectors to binary class matrices\n",
    "from tensorflow.keras.utils import to_categorical \n",
    "y_train = to_categorical(y_train, 10)\n",
    "y_test = to_categorical(y_test, 10)"
   ]
  },
  {
   "cell_type": "code",
   "execution_count": 40,
   "id": "5f27d306",
   "metadata": {},
   "outputs": [
    {
     "name": "stdout",
     "output_type": "stream",
     "text": [
      "x_train shape: (60000, 28, 28, 1)\n",
      "60000 train samples\n",
      "10000 test samples\n"
     ]
    }
   ],
   "source": [
    "x_train = x_train.astype('float32')\n",
    "x_test = x_test.astype('float32')\n",
    "x_train /= 255\n",
    "x_test /= 255\n",
    "print('x_train shape:', x_train.shape)\n",
    "print(x_train.shape[0], 'train samples')\n",
    "print(x_test.shape[0], 'test samples')"
   ]
  },
  {
   "cell_type": "code",
   "execution_count": 41,
   "id": "60224621",
   "metadata": {},
   "outputs": [],
   "source": [
    "#3. Create the model"
   ]
  },
  {
   "cell_type": "code",
   "execution_count": 42,
   "id": "c4396102",
   "metadata": {},
   "outputs": [],
   "source": [
    "batch_size = 128\n",
    "num_classes = 10\n",
    "epochs = 10"
   ]
  },
  {
   "cell_type": "code",
   "execution_count": 43,
   "id": "bc30c0f6",
   "metadata": {},
   "outputs": [],
   "source": [
    "model = Sequential()\n",
    "model.add(Conv2D(32, kernel_size=(5, 5),activation='relu',input_shape=input_shape))\n",
    "model.add(MaxPooling2D(pool_size=(2, 2)))\n",
    "model.add(Conv2D(64, (3, 3), activation='relu'))\n",
    "model.add(MaxPooling2D(pool_size=(2, 2)))\n",
    "model.add(Flatten())\n",
    "model.add(Dense(128, activation='relu'))\n",
    "model.add(Dropout(0.3))\n",
    "model.add(Dense(64, activation='relu'))\n",
    "model.add(Dropout(0.5))\n",
    "model.add(Dense(num_classes, activation='softmax'))"
   ]
  },
  {
   "cell_type": "code",
   "execution_count": 44,
   "id": "aa25be67",
   "metadata": {},
   "outputs": [],
   "source": [
    "model.compile(loss=keras.losses.categorical_crossentropy,optimizer=keras.optimizers.Adadelta(),metrics=['accuracy'])"
   ]
  },
  {
   "cell_type": "code",
   "execution_count": 45,
   "id": "c0e15dd9",
   "metadata": {},
   "outputs": [],
   "source": [
    "#4. Train the model"
   ]
  },
  {
   "cell_type": "code",
   "execution_count": 46,
   "id": "7438f0cb",
   "metadata": {},
   "outputs": [
    {
     "name": "stdout",
     "output_type": "stream",
     "text": [
      "Epoch 1/10\n",
      "469/469 [==============================] - 30s 62ms/step - loss: 2.3123 - accuracy: 0.0906 - val_loss: 2.3003 - val_accuracy: 0.1382\n",
      "Epoch 2/10\n",
      "469/469 [==============================] - 27s 58ms/step - loss: 2.3019 - accuracy: 0.1023 - val_loss: 2.2902 - val_accuracy: 0.1665\n",
      "Epoch 3/10\n",
      "469/469 [==============================] - 28s 60ms/step - loss: 2.2935 - accuracy: 0.1151 - val_loss: 2.2813 - val_accuracy: 0.1838\n",
      "Epoch 4/10\n",
      "469/469 [==============================] - 29s 63ms/step - loss: 2.2842 - accuracy: 0.1342 - val_loss: 2.2722 - val_accuracy: 0.2012\n",
      "Epoch 5/10\n",
      "469/469 [==============================] - 28s 60ms/step - loss: 2.2758 - accuracy: 0.1509 - val_loss: 2.2628 - val_accuracy: 0.2237\n",
      "Epoch 6/10\n",
      "469/469 [==============================] - 27s 58ms/step - loss: 2.2674 - accuracy: 0.1662 - val_loss: 2.2525 - val_accuracy: 0.2471\n",
      "Epoch 7/10\n",
      "469/469 [==============================] - 29s 62ms/step - loss: 2.2575 - accuracy: 0.1871 - val_loss: 2.2410 - val_accuracy: 0.2804\n",
      "Epoch 8/10\n",
      "469/469 [==============================] - 27s 58ms/step - loss: 2.2471 - accuracy: 0.2042 - val_loss: 2.2280 - val_accuracy: 0.3177\n",
      "Epoch 9/10\n",
      "469/469 [==============================] - 28s 59ms/step - loss: 2.2342 - accuracy: 0.2224 - val_loss: 2.2131 - val_accuracy: 0.3531\n",
      "Epoch 10/10\n",
      "469/469 [==============================] - 30s 64ms/step - loss: 2.2220 - accuracy: 0.2353 - val_loss: 2.1963 - val_accuracy: 0.3895\n",
      "The model has successfully trained\n"
     ]
    }
   ],
   "source": [
    "hist = model.fit(x_train, y_train,batch_size=batch_size,epochs=epochs,verbose=1,validation_data=(x_test, y_test))\n",
    "print(\"The model has successfully trained\")"
   ]
  },
  {
   "cell_type": "code",
   "execution_count": 48,
   "id": "238dcbfc",
   "metadata": {},
   "outputs": [],
   "source": [
    "#5. Evaluate the model"
   ]
  },
  {
   "cell_type": "code",
   "execution_count": 49,
   "id": "f0d752c5",
   "metadata": {},
   "outputs": [
    {
     "name": "stdout",
     "output_type": "stream",
     "text": [
      "Test loss: 2.1962547302246094\n",
      "Test accuracy: 0.3894999921321869\n"
     ]
    }
   ],
   "source": [
    "score = model.evaluate(x_test, y_test, verbose=0)\n",
    "print('Test loss:', score[0])\n",
    "print('Test accuracy:', score[1])"
   ]
  },
  {
   "cell_type": "code",
   "execution_count": 50,
   "id": "d11737c8",
   "metadata": {},
   "outputs": [
    {
     "name": "stdout",
     "output_type": "stream",
     "text": [
      "Saving the model as mnist.h5\n"
     ]
    }
   ],
   "source": [
    "model.save('mnist.h5')\n",
    "print(\"Saving the model as mnist.h5\")"
   ]
  },
  {
   "cell_type": "code",
   "execution_count": null,
   "id": "eb006345",
   "metadata": {},
   "outputs": [],
   "source": []
  }
 ],
 "metadata": {
  "kernelspec": {
   "display_name": "Python 3 (ipykernel)",
   "language": "python",
   "name": "python3"
  },
  "language_info": {
   "codemirror_mode": {
    "name": "ipython",
    "version": 3
   },
   "file_extension": ".py",
   "mimetype": "text/x-python",
   "name": "python",
   "nbconvert_exporter": "python",
   "pygments_lexer": "ipython3",
   "version": "3.9.7"
  }
 },
 "nbformat": 4,
 "nbformat_minor": 5
}
